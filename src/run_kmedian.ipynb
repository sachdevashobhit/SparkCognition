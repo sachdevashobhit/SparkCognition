{
 "cells": [
  {
   "cell_type": "code",
   "execution_count": 30,
   "metadata": {
    "collapsed": false
   },
   "outputs": [],
   "source": [
    "import glob # use your path\n",
    "import pandas as pd\n",
    "from sklearn.cluster import KMeans\n",
    "import scipy\n",
    "import numpy as np\n",
    "from datetime import date"
   ]
  },
  {
   "cell_type": "code",
   "execution_count": 24,
   "metadata": {
    "collapsed": true
   },
   "outputs": [],
   "source": [
    "df = pd.read_csv('../data_working/6165.csv', nrows = 14400)"
   ]
  },
  {
   "cell_type": "code",
   "execution_count": 25,
   "metadata": {
    "collapsed": false
   },
   "outputs": [],
   "source": [
    "df[['localminute','use']].to_csv('../test/6165_test.csv',index=False)"
   ]
  },
  {
   "cell_type": "code",
   "execution_count": 26,
   "metadata": {
    "collapsed": false
   },
   "outputs": [],
   "source": [
    "testfile = '../test/6165_test.csv'\n",
    "test = pd.read_csv(testfile)\n",
    "# print test.localminute\n",
    "test['localminute'] = pd.to_datetime(test['localminute'], format='%Y-%m-%d %H:%M:%S-05')\n",
    "# print test.localminute"
   ]
  },
  {
   "cell_type": "code",
   "execution_count": 31,
   "metadata": {
    "collapsed": false
   },
   "outputs": [
    {
     "data": {
      "text/plain": [
       "datetime.date(2013, 7, 1)"
      ]
     },
     "execution_count": 31,
     "metadata": {},
     "output_type": "execute_result"
    }
   ],
   "source": [
    "date(2013,7,1)"
   ]
  },
  {
   "cell_type": "code",
   "execution_count": null,
   "metadata": {
    "collapsed": true
   },
   "outputs": [],
   "source": []
  },
  {
   "cell_type": "code",
   "execution_count": null,
   "metadata": {
    "collapsed": true
   },
   "outputs": [],
   "source": [
    "# get the training data matrix from all files for training\n",
    "def get_train_dataframe(files, curr_date):\n",
    "    train_df = pd.DataFrame()\n",
    "    for file in files:\n",
    "        df1 = pd.read_csv(file)\n",
    "        date_str = curr_date.isoformat()"
   ]
  },
  {
   "cell_type": "code",
   "execution_count": null,
   "metadata": {
    "collapsed": true
   },
   "outputs": [],
   "source": [
    "testfile = '../test/6165_test.csv'\n",
    "test = pd.read_csv(testfile)\n",
    "app = 'air'\n",
    "# train the model:\n",
    "fpattern = '*_' + app + '_weekday_out.csv'\n",
    "train_all = glob.glob('../train/'+fpattern)\n",
    "\n",
    "curr_date = date(2013,7,1)\n",
    "train = get_train_dateframe(train_all, curr_date)\n"
   ]
  },
  {
   "cell_type": "code",
   "execution_count": null,
   "metadata": {
    "collapsed": false
   },
   "outputs": [],
   "source": []
  },
  {
   "cell_type": "code",
   "execution_count": null,
   "metadata": {
    "collapsed": true
   },
   "outputs": [],
   "source": []
  }
 ],
 "metadata": {
  "kernelspec": {
   "display_name": "Python 2",
   "language": "python",
   "name": "python2"
  },
  "language_info": {
   "codemirror_mode": {
    "name": "ipython",
    "version": 2
   },
   "file_extension": ".py",
   "mimetype": "text/x-python",
   "name": "python",
   "nbconvert_exporter": "python",
   "pygments_lexer": "ipython2",
   "version": "2.7.11"
  }
 },
 "nbformat": 4,
 "nbformat_minor": 0
}
