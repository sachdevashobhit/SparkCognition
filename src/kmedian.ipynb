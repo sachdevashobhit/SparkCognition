{
 "cells": [
  {
   "cell_type": "code",
   "execution_count": 2,
   "metadata": {
    "collapsed": true
   },
   "outputs": [],
   "source": [
    "import numpy as np\n",
    "# import TSAEDistance as TSAE\n",
    "from scipy.spatial.distance import cdist"
   ]
  },
  {
   "cell_type": "code",
   "execution_count": 10,
   "metadata": {
    "collapsed": true
   },
   "outputs": [],
   "source": [
    "def evaluate_centroids(data, clusters):\n",
    "    k = np.max(clusters) + 1\n",
    "    centroids = np.empty(shape=(k,) + data.shape[1:])\n",
    "    for i in range(k):\n",
    "        np.mean(data[clusters == i], axis=0, out=centroids[i])\n",
    "    return centroids    "
   ]
  },
  {
   "cell_type": "code",
   "execution_count": 11,
   "metadata": {
    "collapsed": true
   },
   "outputs": [],
   "source": [
    "def kmeans(data, k, steps=10):\n",
    "    \n",
    "    # randomly pick k data points as centroids\n",
    "    centroids = data[np.random.choice(np.arange(len(data)), k, False)]\n",
    "    \n",
    "    for _ in range(max(steps, 1)):\n",
    "        # Squared distances between each point and each centroid.\n",
    "        # sqdists = scipy.spatial.distance.cdist(centroids, data, 'sqeuclidean')\n",
    "        # print sqdists, 'sqdists'\n",
    "\n",
    "        # Manhattan distance\n",
    "        mandist = cdist(centroids, data, 'cityblock')\n",
    "\n",
    "        # Index of the closest centroid to each data point.\n",
    "        clusters = np.argmin(mandist, axis=0)\n",
    "        # print clusters, 'clusters'\n",
    "\n",
    "        new_centroids = evaluate_centroids(data, clusters)\n",
    "        # print new_centroids, 'new_centroids'\n",
    "        \n",
    "        if np.array_equal(new_centroids, centroids): break\n",
    "        \n",
    "        centroids = new_centroids\n",
    "        \n",
    "    return centroids, clusters"
   ]
  },
  {
   "cell_type": "code",
   "execution_count": null,
   "metadata": {
    "collapsed": true
   },
   "outputs": [],
   "source": []
  }
 ],
 "metadata": {
  "kernelspec": {
   "display_name": "Python 2",
   "language": "python",
   "name": "python2"
  },
  "language_info": {
   "codemirror_mode": {
    "name": "ipython",
    "version": 2
   },
   "file_extension": ".py",
   "mimetype": "text/x-python",
   "name": "python",
   "nbconvert_exporter": "python",
   "pygments_lexer": "ipython2",
   "version": "2.7.11"
  }
 },
 "nbformat": 4,
 "nbformat_minor": 0
}
