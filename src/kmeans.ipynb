{
 "cells": [
  {
   "cell_type": "code",
   "execution_count": 3,
   "metadata": {
    "collapsed": true
   },
   "outputs": [],
   "source": [
    "import pandas as pd\n",
    "import numpy as np\n",
    "import TSAEDistance as TSAE"
   ]
  },
  {
   "cell_type": "code",
   "execution_count": 4,
   "metadata": {
    "collapsed": false
   },
   "outputs": [],
   "source": [
    "def cluster_points(X, mu):\n",
    "    clusters  = {}\n",
    "    for x in X:\n",
    "        bestmukey = min([(i[0], np.linalg.norm(x-mu[i[0]])) \\\n",
    "                    for i in enumerate(mu)], key=lambda t:t[1])[0]\n",
    "        try:\n",
    "            clusters[bestmukey].append(x)\n",
    "        except KeyError:\n",
    "            clusters[bestmukey] = [x]\n",
    "    return clusters\n",
    " \n",
    "def reevaluate_centers(mu, clusters):\n",
    "    newmu = []\n",
    "    keys = sorted(clusters.keys())\n",
    "    for k in keys:\n",
    "        newmu.append(np.mean(clusters[k], axis = 0))\n",
    "    return newmu\n",
    " \n",
    "def has_converged(mu, oldmu):\n",
    "    return (set([tuple(a) for a in mu]) == set([tuple(a) for a in oldmu]))\n",
    " \n",
    "def find_centers(X, K):\n",
    "    # Initialize to K random centers\n",
    "    oldmu = random.sample(X, K)\n",
    "    mu = random.sample(X, K)\n",
    "    while not has_converged(mu, oldmu):\n",
    "        oldmu = mu\n",
    "        # Assign all points in X to clusters\n",
    "        clusters = cluster_points(X, mu)\n",
    "        # Reevaluate centers\n",
    "        mu = reevaluate_centers(oldmu, clusters)\n",
    "    return(mu, clusters)"
   ]
  },
  {
   "cell_type": "code",
   "execution_count": 32,
   "metadata": {
    "collapsed": false
   },
   "outputs": [],
   "source": [
    "clusters = np.array([1, 1, 2, 2, 0, 1])"
   ]
  },
  {
   "cell_type": "code",
   "execution_count": 33,
   "metadata": {
    "collapsed": false
   },
   "outputs": [
    {
     "name": "stdout",
     "output_type": "stream",
     "text": [
      "[[12 10 87]\n",
      " [ 2 12 33]\n",
      " [68 31 32]\n",
      " [88 13 66]\n",
      " [79 40 89]\n",
      " [ 1 77 12]]\n"
     ]
    }
   ],
   "source": [
    "data = np.array(data)\n",
    "print data"
   ]
  },
  {
   "cell_type": "code",
   "execution_count": 34,
   "metadata": {
    "collapsed": false
   },
   "outputs": [
    {
     "data": {
      "text/plain": [
       "array([  5.,  33.,  44.])"
      ]
     },
     "execution_count": 34,
     "metadata": {},
     "output_type": "execute_result"
    }
   ],
   "source": [
    "np.mean(data[clusters == 1], axis = 0)"
   ]
  },
  {
   "cell_type": "code",
   "execution_count": 5,
   "metadata": {
    "collapsed": true
   },
   "outputs": [],
   "source": [
    "def cluster_centroids(data, clusters, k=None):\n",
    "    \"\"\"Return centroids of clusters in data.\n",
    "\n",
    "    data is an array of observations with shape (A, B, ...).\n",
    "\n",
    "    clusters is an array of integers of shape (A,) giving the index\n",
    "    (from 0 to k-1) of the cluster to which each observation belongs.\n",
    "    The clusters must all be non-empty.\n",
    "\n",
    "    k is the number of clusters. If omitted, it is deduced from the\n",
    "    values in the clusters array.\n",
    "\n",
    "    The result is an array of shape (k, B, ...) containing the\n",
    "    centroid of each cluster.\n",
    "\n",
    "    >>> data = np.array([[12, 10, 87],\n",
    "    ...                  [ 2, 12, 33],\n",
    "    ...                  [68, 31, 32],\n",
    "    ...                  [88, 13, 66],\n",
    "    ...                  [79, 40, 89],\n",
    "    ...                  [ 1, 77, 12]])\n",
    "    >>> cluster_centroids(data, np.array([1, 1, 2, 2, 0, 1]))\n",
    "    array([[ 79.,  40.,  89.],\n",
    "           [  5.,  33.,  44.],\n",
    "           [ 78.,  22.,  49.]])\n",
    "\n",
    "    \"\"\"\n",
    "    if k is None:\n",
    "        k = np.max(clusters) + 1\n",
    "    result = np.empty(shape=(k,) + data.shape[1:])\n",
    "    for i in range(k):\n",
    "        np.mean(data[clusters == i], axis=0, out=result[i])\n",
    "    return result\n"
   ]
  },
  {
   "cell_type": "code",
   "execution_count": 25,
   "metadata": {
    "collapsed": true
   },
   "outputs": [],
   "source": [
    "data = np.array([[12, 10, 87], [ 2, 12, 33],[68, 31, 32], [88, 13, 66],[79, 40, 89],[ 1, 77, 12]])"
   ]
  },
  {
   "cell_type": "code",
   "execution_count": 26,
   "metadata": {
    "collapsed": false
   },
   "outputs": [
    {
     "name": "stdout",
     "output_type": "stream",
     "text": [
      "[[  4.94065646e-324   4.94065646e-324   4.94065646e-324]\n",
      " [  9.88131292e-324   9.88131292e-324   9.88131292e-324]\n",
      " [  1.48219694e-323   1.48219694e-323   1.48219694e-323]] result\n",
      "[[12 10 87]\n",
      " [ 2 12 33]\n",
      " [68 31 32]\n",
      " [88 13 66]\n",
      " [79 40 89]\n",
      " [ 1 77 12]] data\n",
      "[[  7.90000000e+001   4.00000000e+001   8.90000000e+001]\n",
      " [  9.88131292e-324   9.88131292e-324   9.88131292e-324]\n",
      " [  1.48219694e-323   1.48219694e-323   1.48219694e-323]] resulti\n",
      "[[12 10 87]\n",
      " [ 2 12 33]\n",
      " [68 31 32]\n",
      " [88 13 66]\n",
      " [79 40 89]\n",
      " [ 1 77 12]] data\n",
      "[[  7.90000000e+001   4.00000000e+001   8.90000000e+001]\n",
      " [  5.00000000e+000   3.30000000e+001   4.40000000e+001]\n",
      " [  1.48219694e-323   1.48219694e-323   1.48219694e-323]] resulti\n",
      "[[12 10 87]\n",
      " [ 2 12 33]\n",
      " [68 31 32]\n",
      " [88 13 66]\n",
      " [79 40 89]\n",
      " [ 1 77 12]] data\n",
      "[[ 79.  40.  89.]\n",
      " [  5.  33.  44.]\n",
      " [ 78.  22.  49.]] resulti\n"
     ]
    },
    {
     "data": {
      "text/plain": [
       "array([[ 79.,  40.,  89.],\n",
       "       [  5.,  33.,  44.],\n",
       "       [ 78.,  22.,  49.]])"
      ]
     },
     "execution_count": 26,
     "metadata": {},
     "output_type": "execute_result"
    }
   ],
   "source": [
    "cluster_centroids(data, np.array([1, 1, 2, 2, 0, 1]))"
   ]
  },
  {
   "cell_type": "code",
   "execution_count": 6,
   "metadata": {
    "collapsed": true
   },
   "outputs": [],
   "source": [
    "import scipy.spatial\n",
    "\n",
    "def kmeans(data, k=None, centroids=None, steps=20):\n",
    "    \"\"\"Divide the observations in data into clusters using the k-means\n",
    "    algorithm, and return an array of integers assigning each data\n",
    "    point to one of the clusters.\n",
    "\n",
    "    centroids, if supplied, must be an array giving the initial\n",
    "    position of the centroids of each cluster.\n",
    "\n",
    "    If centroids is omitted, the number k gives the number of clusters\n",
    "    and the initial positions of the centroids are selected randomly\n",
    "    from the data.\n",
    "\n",
    "    The k-means algorithm adjusts the centroids iteratively for the\n",
    "    given number of steps, or until no further progress can be made.\n",
    "\n",
    "    >>> data = np.array([[12, 10, 87],\n",
    "    ...                  [ 2, 12, 33],\n",
    "    ...                  [68, 31, 32],\n",
    "    ...                  [88, 13, 66],\n",
    "    ...                  [79, 40, 89],\n",
    "    ...                  [ 1, 77, 12]])\n",
    "    >>> np.random.seed(73)\n",
    "    >>> kmeans(data, k=3)\n",
    "    array([1, 1, 2, 2, 0, 1])\n",
    "\n",
    "    \"\"\"\n",
    "    if centroids is not None and k is not None:\n",
    "        assert(k == len(centroids))\n",
    "    elif centroids is not None:\n",
    "        k = len(centroids)\n",
    "    elif k is not None:\n",
    "        # Forgy initialization method: choose k data points randomly.\n",
    "        centroids = data[np.random.choice(np.arange(len(data)), k, False)]\n",
    "        print centroids, 'centroids'\n",
    "    else:\n",
    "        raise RuntimeError(\"Need a value for k or centroids.\")\n",
    "\n",
    "    for _ in range(max(steps, 1)):\n",
    "        # Squared distances between each point and each centroid.\n",
    "        sqdists = scipy.spatial.distance.cdist(centroids, data, 'sqeuclidean')\n",
    "        print sqdists, 'sqdists'\n",
    "\n",
    "        # Index of the closest centroid to each data point.\n",
    "        clusters = np.argmin(sqdists, axis=0)\n",
    "        print clusters, 'clusters'\n",
    "\n",
    "        new_centroids = cluster_centroids(data, clusters, k)\n",
    "        print new_centroids, 'new_centroids'\n",
    "        if np.array_equal(new_centroids, centroids):\n",
    "            break\n",
    "\n",
    "        centroids = new_centroids\n",
    "\n",
    "    return clusters"
   ]
  },
  {
   "cell_type": "code",
   "execution_count": 9,
   "metadata": {
    "collapsed": false
   },
   "outputs": [
    {
     "name": "stdout",
     "output_type": "stream",
     "text": [
      "[[12 10 87]\n",
      " [ 2 12 33]\n",
      " [68 31 32]\n",
      " [88 13 66]\n",
      " [79 40 89]\n",
      " [ 1 77 12]]\n"
     ]
    }
   ],
   "source": [
    "data = np.array([[12, 10, 87], [ 2, 12, 33],[68, 31, 32], [88, 13, 66],[79, 40, 89],[ 1, 77, 12]])\n",
    "print data"
   ]
  },
  {
   "cell_type": "code",
   "execution_count": 8,
   "metadata": {
    "collapsed": false
   },
   "outputs": [
    {
     "name": "stdout",
     "output_type": "stream",
     "text": [
      "[[68 31 32]\n",
      " [79 40 89]\n",
      " [ 1 77 12]] centroids\n",
      "[[  6602.   4718.      0.   1880.   3451.   7005.]\n",
      " [  5393.   9849.   3451.   1339.      0.  13382.]\n",
      " [ 10235.   4667.   7005.  14581.  13382.      0.]] sqdists\n",
      "[1 2 0 1 1 2] clusters\n",
      "[[ 68.          31.          32.        ]\n",
      " [ 59.66666667  21.          80.66666667]\n",
      " [  1.5         44.5         22.5       ]] new_centroids\n",
      "[[  6602.           4718.              0.           1880.           3451.\n",
      "    7005.        ]\n",
      " [  2433.22222222   5678.55555556   2537.88888889   1081.88888889\n",
      "     804.22222222  11292.88888889]\n",
      " [  5460.75         1166.75         4694.75        10366.75        10448.75\n",
      "    1166.75      ]] sqdists\n",
      "[1 2 0 1 1 2] clusters\n",
      "[[ 68.          31.          32.        ]\n",
      " [ 59.66666667  21.          80.66666667]\n",
      " [  1.5         44.5         22.5       ]] new_centroids\n"
     ]
    },
    {
     "data": {
      "text/plain": [
       "array([1, 2, 0, 1, 1, 2])"
      ]
     },
     "execution_count": 8,
     "metadata": {},
     "output_type": "execute_result"
    }
   ],
   "source": [
    "kmeans(data,k=3)"
   ]
  },
  {
   "cell_type": "code",
   "execution_count": null,
   "metadata": {
    "collapsed": true
   },
   "outputs": [],
   "source": []
  }
 ],
 "metadata": {
  "kernelspec": {
   "display_name": "Python 2",
   "language": "python",
   "name": "python2"
  },
  "language_info": {
   "codemirror_mode": {
    "name": "ipython",
    "version": 2
   },
   "file_extension": ".py",
   "mimetype": "text/x-python",
   "name": "python",
   "nbconvert_exporter": "python",
   "pygments_lexer": "ipython2",
   "version": "2.7.11"
  }
 },
 "nbformat": 4,
 "nbformat_minor": 0
}
