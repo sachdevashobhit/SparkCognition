{
 "cells": [
  {
   "cell_type": "code",
   "execution_count": 9,
   "metadata": {
    "collapsed": false
   },
   "outputs": [],
   "source": [
    "import os\n",
    "import top_appliance as tp\n",
    "import json"
   ]
  },
  {
   "cell_type": "code",
   "execution_count": 12,
   "metadata": {
    "collapsed": true
   },
   "outputs": [],
   "source": [
    "def main(path, list_file):\n",
    "    path = str(args[0])\n",
    "    list_file = str(args[1])\n",
    "    with open(list_file) as data_file:    \n",
    "        top_list = json.load(data_file)\n",
    "    print \"received top list: \", top_list\n",
    "    output_path = os.path.join(path, \"output\")\n",
    "    if not os.path.exists(output_path): os.mkdir(output_path)\n",
    "    for doc in os.listdir(path):\n",
    "        if doc.endswith(\".csv\"):\n",
    "            df = tp.load_group(os.path.join(path,doc))\n",
    "            df1 = df[['localminute'] + top_list]\n",
    "            df1.to_csv(os.path.join(output_path, doc.split('.')[0]+\"_out.csv\"))\n",
    "            print \"processed \", doc"
   ]
  },
  {
   "cell_type": "code",
   "execution_count": 13,
   "metadata": {
    "collapsed": false
   },
   "outputs": [
    {
     "name": "stdout",
     "output_type": "stream",
     "text": [
      "received top list:  [u'air', u'refrigerator', u'furnace', u'bedroom', u'livingroom']\n",
      "processed  5357.csv\n"
     ]
    }
   ],
   "source": [
    "main(\"../data_working/data/\", \"../data_working/data/top_list.json\")"
   ]
  },
  {
   "cell_type": "code",
   "execution_count": null,
   "metadata": {
    "collapsed": true
   },
   "outputs": [],
   "source": [
    "if __name__ == \"__main__\":\n",
    "    main(args[1:])"
   ]
  }
 ],
 "metadata": {
  "kernelspec": {
   "display_name": "Python 2",
   "language": "python",
   "name": "python2"
  },
  "language_info": {
   "codemirror_mode": {
    "name": "ipython",
    "version": 2
   },
   "file_extension": ".py",
   "mimetype": "text/x-python",
   "name": "python",
   "nbconvert_exporter": "python",
   "pygments_lexer": "ipython2",
   "version": "2.7.11"
  }
 },
 "nbformat": 4,
 "nbformat_minor": 0
}
