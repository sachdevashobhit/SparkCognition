{
 "cells": [
  {
   "cell_type": "code",
   "execution_count": 14,
   "metadata": {
    "collapsed": true
   },
   "outputs": [],
   "source": [
    "import pandas as pd\n",
    "import os\n",
    "import operator\n",
    "import numpy as np\n",
    "from collections import Counter\n",
    "from datetime import datetime\n",
    "import json"
   ]
  },
  {
   "cell_type": "code",
   "execution_count": 15,
   "metadata": {
    "collapsed": true
   },
   "outputs": [],
   "source": [
    "# This function creates a DataFrame for other functions appending columns with similar appliencies, e.g. air1 and air2\n",
    "# It takes the path to the cvs file as an argument\n",
    "def load_group(path):\n",
    "    df = pd.read_csv(path)\n",
    "    df.fillna(0, inplace=True)\n",
    "    \n",
    "    df['air'] = df['air1'] + df['air2'] +df['air3'] + df['airwindowunit1']\n",
    "    df.drop(['air1','air2','air3', 'airwindowunit1'],inplace=True,axis=1,errors='ignore')\n",
    "    \n",
    "    df['aquarium'] = df['aquarium1']\n",
    "    df.drop(['aquarium1'],inplace=True,axis=1,errors='ignore')\n",
    "    df['bathroom'] = df['bathroom1'] + df['bathroom2']\n",
    "    df.drop(['bathroom1','bathroom2'],inplace=True,axis=1,errors='ignore')\n",
    "    df['bedroom'] = df['bedroom1'] + df['bedroom2'] + df['bedroom3'] + df['bedroom4'] + df['bedroom5']\n",
    "    df.drop(['bedroom1','bedroom2', 'bedroom3', 'bedroom4', 'bedroom5'],inplace=True,axis=1,errors='ignore')\n",
    "    df['car'] = df['car1']\n",
    "    df.drop(['car1'],inplace=True,axis=1,errors='ignore')\n",
    "    df['clotheswasher'] = df['clotheswasher1'] + df['clotheswasher_dryg1']\n",
    "    df.drop(['clotheswasher1', 'clotheswasher_dryg1'],inplace=True,axis=1,errors='ignore')\n",
    "      \n",
    "    df['diningroom'] = df['diningroom1'] + df['diningroom2']\n",
    "    df.drop(['diningroom1','diningroom2'],inplace=True,axis=1,errors='ignore')\n",
    "    df['dishwasher'] = df['dishwasher1']\n",
    "    df.drop(['dishwasher1'],inplace=True,axis=1,errors='ignore')\n",
    "    df['disposal'] = df['disposal1']\n",
    "    df.drop(['disposal1'],inplace=True,axis=1,errors='ignore')\n",
    "    df['dryer'] = df['drye1'] + df['dryg1']\n",
    "    df.drop(['drye1', 'dryg1'],inplace=True,axis=1,errors='ignore')\n",
    "    \n",
    "    df['freezer'] = df['freezer1']\n",
    "    df.drop(['freezer1'],inplace=True,axis=1,errors='ignore')\n",
    "    df['furnace'] = df['furnace1'] + df['furnace2']\n",
    "    df.drop(['furnace1','furnace2'],inplace=True,axis=1,errors='ignore')\n",
    "    df['garage'] = df['garage1'] + df['garage2']\n",
    "    df.drop(['garage1','garage2'],inplace=True,axis=1,errors='ignore')\n",
    "    df['heater'] = df['heater1']\n",
    "    df.drop(['heater1'],inplace=True,axis=1,errors='ignore')\n",
    "    df['housefan'] = df['housefan1']\n",
    "    df.drop(['housefan1'],inplace=True,axis=1,errors='ignore')\n",
    "    df['icemaker'] = df['icemaker1']\n",
    "    df.drop(['icemaker1'],inplace=True,axis=1,errors='ignore')\n",
    "    df['jacuzzi'] = df['jacuzzi1']\n",
    "    df.drop(['jacuzzi1'],inplace=True,axis=1,errors='ignore')\n",
    "    df['kitchen'] = df['kitchen1'] + df['kitchen2']\n",
    "    df.drop(['kitchen1','kitchen2'],inplace=True,axis=1,errors='ignore')\n",
    "    df['kitchenapp'] = df['kitchenapp1'] + df['kitchenapp2']\n",
    "    df.drop(['kitchenapp1','kitchenapp2'],inplace=True,axis=1,errors='ignore')\n",
    "    df['lights_plugs'] = df['lights_plugs1'] + df['lights_plugs2'] + df['lights_plugs3'] + df['lights_plugs4'] + df['lights_plugs5'] + df['lights_plugs6']\n",
    "    df.drop(['lights_plugs1','lights_plugs2', 'lights_plugs3', 'lights_plugs4', 'lights_plugs5', 'lights_plugs6'],inplace=True,axis=1,errors='ignore')\n",
    "    df['livingroom'] = df['livingroom1'] + df['livingroom2']\n",
    "    df.drop(['livingroom1','livingroom2'],inplace=True,axis=1,errors='ignore')\n",
    "    df['microwave'] = df['microwave1']\n",
    "    df.drop(['microwave1'],inplace=True,axis=1,errors='ignore')\n",
    "    df['office'] = df['office1']\n",
    "    df.drop(['office1'],inplace=True,axis=1,errors='ignore')\n",
    "    df['outsidelights_plugs'] = df['outsidelights_plugs1'] + df['outsidelights_plugs2']\n",
    "    df.drop(['outsidelights_plugs1','outsidelights_plugs2'],inplace=True,axis=1,errors='ignore')\n",
    "    df['oven'] = df['oven1'] + df['oven2']\n",
    "    df.drop(['oven1','oven2'],inplace=True,axis=1,errors='ignore')\n",
    "    df['pool'] = df['pool1'] + df['pool2'] + df['poollight1'] + df['poolpump1']\n",
    "    df.drop(['pool1','pool2', 'poollight1', 'poolpump1'],inplace=True,axis=1,errors='ignore')\n",
    "    df['pump'] = df['pump1']\n",
    "    df.drop(['pump1'],inplace=True,axis=1,errors='ignore')\n",
    "    df['range'] = df['range1']\n",
    "    df.drop(['range1'],inplace=True,axis=1,errors='ignore')\n",
    "    df['refrigerator'] = df['refrigerator1'] + df['refrigerator2']\n",
    "    df.drop(['refrigerator1','refrigerator2'],inplace=True,axis=1,errors='ignore')\n",
    "    df['security'] = df['security1']\n",
    "    df.drop(['security1'],inplace=True,axis=1,errors='ignore')\n",
    "    df['shed'] = df['shed1']\n",
    "    df.drop(['shed1'],inplace=True,axis=1,errors='ignore')\n",
    "    df['sprinkler'] = df['sprinkler1']\n",
    "    df.drop(['sprinkler1'],inplace=True,axis=1,errors='ignore')\n",
    "    df['unknown'] = df['unknown1'] + df['unknown2'] + df['unknown3'] + df['unknown4']\n",
    "    df.drop(['unknown1','unknown2', 'unknown3', 'unknown4'],inplace=True,axis=1,errors='ignore')\n",
    "    df['utilityroom'] = df['utilityroom1']\n",
    "    df.drop(['utilityroom1'],inplace=True,axis=1,errors='ignore')\n",
    "    df['venthood'] = df['venthood1']\n",
    "    df.drop(['venthood1'],inplace=True,axis=1,errors='ignore')\n",
    "    df['waterheater'] = df['waterheater1'] + df['waterheater2']\n",
    "    df.drop(['waterheater1','waterheater2'],inplace=True,axis=1,errors='ignore')\n",
    "    df['winecooler'] = df['winecooler1']\n",
    "    df.drop(['winecooler1'],inplace=True,axis=1,errors='ignore')\n",
    "    \n",
    "    df.drop(df.columns[0:3], axis=1, inplace=True)\n",
    "    \n",
    "    return df"
   ]
  },
  {
   "cell_type": "code",
   "execution_count": 21,
   "metadata": {
    "collapsed": true
   },
   "outputs": [],
   "source": [
    "# it will return a dataframe with only selected months\n",
    "# months are array of month strings: ['06','07','08']\n",
    "def get_months(df, months):\n",
    "    dt = df[df['localminute'].str[5:7].isin(months)]\n",
    "    return dt.drop('localminute', axis=1)"
   ]
  },
  {
   "cell_type": "code",
   "execution_count": 22,
   "metadata": {
    "collapsed": false
   },
   "outputs": [],
   "source": [
    "# get top k appliances that consume most energy\n",
    "def get_top_appliance(dt, k):\n",
    "    top_list = dt.sum().sort_values(ascending=False)\n",
    "    return top_list[1:k+1].index  # top 1 is 'use'"
   ]
  },
  {
   "cell_type": "code",
   "execution_count": 23,
   "metadata": {
    "collapsed": false,
    "scrolled": true
   },
   "outputs": [],
   "source": [
    "# scan every file, and top k appliance from all\n",
    "def get_top(path, k):\n",
    "    top_list = list()\n",
    "    for doc in os.listdir(path):\n",
    "        if doc.endswith(\".csv\"):\n",
    "            dt = get_months(load_group(os.path.join(path,doc)), \n",
    "                            ['06', '07','08'])\n",
    "            top_list.extend(get_top_appliance(dt,k))\n",
    "            print \"processed file: \", doc\n",
    "    return [app for app, count in Counter(top_list).most_common(k)]"
   ]
  },
  {
   "cell_type": "code",
   "execution_count": 24,
   "metadata": {
    "collapsed": false
   },
   "outputs": [],
   "source": [
    "def main(args):\n",
    "    path = args[0]\n",
    "    k = args[1]\n",
    "    out = args[2]\n",
    "    top_list = get_top(path, k)\n",
    "    with open(out, 'w') as outfile:\n",
    "        json.dump(top_list, outfile)"
   ]
  },
  {
   "cell_type": "code",
   "execution_count": 25,
   "metadata": {
    "collapsed": false
   },
   "outputs": [],
   "source": [
    "df = get_months(load_group(\"../data_working/data/5357.csv\"), ['06','08','09'])"
   ]
  },
  {
   "cell_type": "code",
   "execution_count": 73,
   "metadata": {
    "collapsed": false
   },
   "outputs": [],
   "source": [
    "    "
   ]
  },
  {
   "cell_type": "code",
   "execution_count": 74,
   "metadata": {
    "collapsed": false
   },
   "outputs": [
    {
     "name": "stdout",
     "output_type": "stream",
     "text": [
      "Index([u'air', u'pool', u'car', u'waterheater', u'bedroom'], dtype='object')\n"
     ]
    }
   ],
   "source": []
  },
  {
   "cell_type": "code",
   "execution_count": 76,
   "metadata": {
    "collapsed": false
   },
   "outputs": [
    {
     "data": {
      "text/plain": [
       "[('bedroom', 1), ('car', 1)]"
      ]
     },
     "execution_count": 76,
     "metadata": {},
     "output_type": "execute_result"
    }
   ],
   "source": []
  },
  {
   "cell_type": "code",
   "execution_count": 78,
   "metadata": {
    "collapsed": false
   },
   "outputs": [
    {
     "data": {
      "text/plain": [
       "['bedroom', 'car']"
      ]
     },
     "execution_count": 78,
     "metadata": {},
     "output_type": "execute_result"
    }
   ],
   "source": []
  },
  {
   "cell_type": "code",
   "execution_count": null,
   "metadata": {
    "collapsed": true
   },
   "outputs": [],
   "source": []
  }
 ],
 "metadata": {
  "kernelspec": {
   "display_name": "Python 2",
   "language": "python",
   "name": "python2"
  },
  "language_info": {
   "codemirror_mode": {
    "name": "ipython",
    "version": 2
   },
   "file_extension": ".py",
   "mimetype": "text/x-python",
   "name": "python",
   "nbconvert_exporter": "python",
   "pygments_lexer": "ipython2",
   "version": "2.7.11"
  }
 },
 "nbformat": 4,
 "nbformat_minor": 0
}
