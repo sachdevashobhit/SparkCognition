{
 "cells": [
  {
   "cell_type": "code",
   "execution_count": 1,
   "metadata": {
    "collapsed": true
   },
   "outputs": [],
   "source": [
    "import pandas as pd\n",
    "import numpy as np"
   ]
  },
  {
   "cell_type": "code",
   "execution_count": 4,
   "metadata": {
    "collapsed": false
   },
   "outputs": [],
   "source": [
    "df = pd.read_csv(\"results.csv\")"
   ]
  },
  {
   "cell_type": "code",
   "execution_count": 6,
   "metadata": {
    "collapsed": false
   },
   "outputs": [],
   "source": [
    "true = df['Air']\n",
    "pred = df['Air_predicted']"
   ]
  },
  {
   "cell_type": "code",
   "execution_count": 9,
   "metadata": {
    "collapsed": false
   },
   "outputs": [],
   "source": [
    "bar = true.mean()\n",
    "SStot = ((true-bar)**2).sum()"
   ]
  },
  {
   "cell_type": "code",
   "execution_count": 13,
   "metadata": {
    "collapsed": false
   },
   "outputs": [],
   "source": [
    "SSres = ((pred-true)**2).sum()"
   ]
  },
  {
   "cell_type": "code",
   "execution_count": 32,
   "metadata": {
    "collapsed": false
   },
   "outputs": [
    {
     "name": "stdout",
     "output_type": "stream",
     "text": [
      "1\n"
     ]
    }
   ],
   "source": [
    "print 1"
   ]
  },
  {
   "cell_type": "code",
   "execution_count": 49,
   "metadata": {
    "collapsed": false
   },
   "outputs": [
    {
     "name": "stdout",
     "output_type": "stream",
     "text": [
      "19022.6015897 34532.8012032 -0.815356382272\n",
      "1.5485836092 1.06767991766\n"
     ]
    }
   ],
   "source": [
    "true = df['Air']\n",
    "pred = df['Air_predicted']\n",
    "bar = true.mean()\n",
    "SStot = ((true-bar)**2).sum()\n",
    "SSres = ((pred-true)**2).sum()\n",
    "Rsqr = 1- SSres/SStot\n",
    "print SStot, SSres, Rsqr\n",
    "RMSE = np.sqrt(((pred-true)**2).mean())\n",
    "MAE = (pred-true).abs().mean()\n",
    "print RMSE, MAE"
   ]
  },
  {
   "cell_type": "code",
   "execution_count": 51,
   "metadata": {
    "collapsed": false
   },
   "outputs": [
    {
     "name": "stdout",
     "output_type": "stream",
     "text": [
      "0.0 5104.779585\n",
      "0.59539783531 0.258937986111\n"
     ]
    }
   ],
   "source": [
    "true = df['Dryer']\n",
    "pred = df['Dryer_predicted']\n",
    "bar = true.mean()\n",
    "SStot = ((true-bar)**2).sum()\n",
    "SSres = ((pred-true)**2).sum()\n",
    "# Rsqr = 1- SSres/SStot\n",
    "print SStot, SSres\n",
    "RMSE = np.sqrt(((pred-true)**2).mean())\n",
    "MAE = (pred-true).abs().mean()\n",
    "print RMSE, MAE"
   ]
  },
  {
   "cell_type": "code",
   "execution_count": 52,
   "metadata": {
    "collapsed": false
   },
   "outputs": [
    {
     "name": "stdout",
     "output_type": "stream",
     "text": [
      "0.0 1374.18477379\n",
      "0.308916652481 0.215306575379\n"
     ]
    }
   ],
   "source": [
    "true = df['Furnace']\n",
    "pred = df['Furnace_predicted']\n",
    "bar = true.mean()\n",
    "SStot = ((true-bar)**2).sum()\n",
    "SSres = ((pred-true)**2).sum()\n",
    "# Rsqr = 1- SSres/SStot\n",
    "print SStot, SSres\n",
    "RMSE = np.sqrt(((pred-true)**2).mean())\n",
    "MAE = (pred-true).abs().mean()\n",
    "print RMSE, MAE"
   ]
  },
  {
   "cell_type": "code",
   "execution_count": 53,
   "metadata": {
    "collapsed": false
   },
   "outputs": [
    {
     "name": "stdout",
     "output_type": "stream",
     "text": [
      "0.0 137.891262774\n",
      "0.0978559254062 0.0591808164507\n"
     ]
    }
   ],
   "source": [
    "true = df['Refrigerator']\n",
    "pred = df['refrigerator_predicted']\n",
    "bar = true.mean()\n",
    "SStot = ((true-bar)**2).sum()\n",
    "SSres = ((pred-true)**2).sum()\n",
    "# Rsqr = 1- SSres/SStot\n",
    "print SStot, SSres\n",
    "RMSE = np.sqrt(((pred-true)**2).mean())\n",
    "MAE = (pred-true).abs().mean()\n",
    "print RMSE, MAE"
   ]
  },
  {
   "cell_type": "code",
   "execution_count": 54,
   "metadata": {
    "collapsed": false
   },
   "outputs": [
    {
     "name": "stdout",
     "output_type": "stream",
     "text": [
      "0.0 275.716994\n",
      "0.138372733847 0.0674101388889\n"
     ]
    }
   ],
   "source": [
    "true = df['Light_plugs']\n",
    "pred = df['Light_plug_predicted']\n",
    "bar = true.mean()\n",
    "SStot = ((true-bar)**2).sum()\n",
    "SSres = ((pred-true)**2).sum()\n",
    "# Rsqr = 1- SSres/SStot\n",
    "print SStot, SSres\n",
    "RMSE = np.sqrt(((pred-true)**2).mean())\n",
    "MAE = (pred-true).abs().mean()\n",
    "print RMSE, MAE"
   ]
  },
  {
   "cell_type": "code",
   "execution_count": null,
   "metadata": {
    "collapsed": true
   },
   "outputs": [],
   "source": []
  }
 ],
 "metadata": {
  "kernelspec": {
   "display_name": "Python 2",
   "language": "python",
   "name": "python2"
  },
  "language_info": {
   "codemirror_mode": {
    "name": "ipython",
    "version": 2
   },
   "file_extension": ".py",
   "mimetype": "text/x-python",
   "name": "python",
   "nbconvert_exporter": "python",
   "pygments_lexer": "ipython2",
   "version": "2.7.11"
  }
 },
 "nbformat": 4,
 "nbformat_minor": 0
}
